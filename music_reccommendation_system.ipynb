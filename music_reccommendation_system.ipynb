{
 "cells": [
  {
   "cell_type": "code",
   "execution_count": 1,
   "id": "7ee131a3",
   "metadata": {
    "_cell_guid": "b1076dfc-b9ad-4769-8c92-a6c4dae69d19",
    "_uuid": "8f2839f25d086af736a60e9eeb907d3b93b6e0e5",
    "execution": {
     "iopub.execute_input": "2023-10-05T10:16:54.040244Z",
     "iopub.status.busy": "2023-10-05T10:16:54.039479Z",
     "iopub.status.idle": "2023-10-05T10:16:54.400352Z",
     "shell.execute_reply": "2023-10-05T10:16:54.399111Z"
    },
    "papermill": {
     "duration": 0.370177,
     "end_time": "2023-10-05T10:16:54.402504",
     "exception": false,
     "start_time": "2023-10-05T10:16:54.032327",
     "status": "completed"
    },
    "tags": []
   },
   "outputs": [
    {
     "name": "stdout",
     "output_type": "stream",
     "text": [
      "/kaggle/input/song-data/songdata.csv\n",
      "/kaggle/input/songs-recommendation-dataset/songdata.csv\n"
     ]
    }
   ],
   "source": [
    "# This Python 3 environment comes with many helpful analytics libraries installed\n",
    "# It is defined by the kaggle/python Docker image: https://github.com/kaggle/docker-python\n",
    "# For example, here's several helpful packages to load\n",
    "\n",
    "import numpy as np # linear algebra\n",
    "import pandas as pd # data processing, CSV file I/O (e.g. pd.read_csv)\n",
    "\n",
    "# Input data files are available in the read-only \"../input/\" directory\n",
    "# For example, running this (by clicking run or pressing Shift+Enter) will list all files under the input directory\n",
    "\n",
    "import os\n",
    "for dirname, _, filenames in os.walk('/kaggle/input'):\n",
    "    for filename in filenames:\n",
    "        print(os.path.join(dirname, filename))\n",
    "\n",
    "# You can write up to 20GB to the current directory (/kaggle/working/) that gets preserved as output when you create a version using \"Save & Run All\" \n",
    "# You can also write temporary files to /kaggle/temp/, but they won't be saved outside of the current session"
   ]
  },
  {
   "cell_type": "markdown",
   "id": "57d35ef8",
   "metadata": {},
   "source": [
    "# link of dataset \n",
    "https://www.kaggle.com/datasets/sraj39273/song-data"
   ]
  },
  {
   "cell_type": "code",
   "execution_count": 2,
   "id": "4a624ba2",
   "metadata": {
    "execution": {
     "iopub.execute_input": "2023-10-05T10:16:54.414782Z",
     "iopub.status.busy": "2023-10-05T10:16:54.414314Z",
     "iopub.status.idle": "2023-10-05T10:16:54.418968Z",
     "shell.execute_reply": "2023-10-05T10:16:54.417963Z"
    },
    "papermill": {
     "duration": 0.013437,
     "end_time": "2023-10-05T10:16:54.421013",
     "exception": false,
     "start_time": "2023-10-05T10:16:54.407576",
     "status": "completed"
    },
    "tags": []
   },
   "outputs": [],
   "source": [
    "import pandas as pd\n",
    "import numpy as np"
   ]
  },
  {
   "cell_type": "code",
   "execution_count": 3,
   "id": "e498cc22",
   "metadata": {
    "execution": {
     "iopub.execute_input": "2023-10-05T10:16:54.432273Z",
     "iopub.status.busy": "2023-10-05T10:16:54.431891Z",
     "iopub.status.idle": "2023-10-05T10:16:56.025849Z",
     "shell.execute_reply": "2023-10-05T10:16:56.025158Z"
    },
    "papermill": {
     "duration": 1.601664,
     "end_time": "2023-10-05T10:16:56.027772",
     "exception": false,
     "start_time": "2023-10-05T10:16:54.426108",
     "status": "completed"
    },
    "tags": []
   },
   "outputs": [
    {
     "data": {
      "text/html": [
       "<div>\n",
       "<style scoped>\n",
       "    .dataframe tbody tr th:only-of-type {\n",
       "        vertical-align: middle;\n",
       "    }\n",
       "\n",
       "    .dataframe tbody tr th {\n",
       "        vertical-align: top;\n",
       "    }\n",
       "\n",
       "    .dataframe thead th {\n",
       "        text-align: right;\n",
       "    }\n",
       "</style>\n",
       "<table border=\"1\" class=\"dataframe\">\n",
       "  <thead>\n",
       "    <tr style=\"text-align: right;\">\n",
       "      <th></th>\n",
       "      <th>artist</th>\n",
       "      <th>song</th>\n",
       "      <th>link</th>\n",
       "      <th>text</th>\n",
       "    </tr>\n",
       "  </thead>\n",
       "  <tbody>\n",
       "    <tr>\n",
       "      <th>0</th>\n",
       "      <td>ABBA</td>\n",
       "      <td>Ahe's My Kind Of Girl</td>\n",
       "      <td>/a/abba/ahes+my+kind+of+girl_20598417.html</td>\n",
       "      <td>Look at her face, it's a wonderful face  \\nAnd...</td>\n",
       "    </tr>\n",
       "    <tr>\n",
       "      <th>1</th>\n",
       "      <td>ABBA</td>\n",
       "      <td>Andante, Andante</td>\n",
       "      <td>/a/abba/andante+andante_20002708.html</td>\n",
       "      <td>Take it easy with me, please  \\nTouch me gentl...</td>\n",
       "    </tr>\n",
       "    <tr>\n",
       "      <th>2</th>\n",
       "      <td>ABBA</td>\n",
       "      <td>As Good As New</td>\n",
       "      <td>/a/abba/as+good+as+new_20003033.html</td>\n",
       "      <td>I'll never know why I had to go  \\nWhy I had t...</td>\n",
       "    </tr>\n",
       "  </tbody>\n",
       "</table>\n",
       "</div>"
      ],
      "text/plain": [
       "  artist                   song                                        link  \\\n",
       "0   ABBA  Ahe's My Kind Of Girl  /a/abba/ahes+my+kind+of+girl_20598417.html   \n",
       "1   ABBA       Andante, Andante       /a/abba/andante+andante_20002708.html   \n",
       "2   ABBA         As Good As New        /a/abba/as+good+as+new_20003033.html   \n",
       "\n",
       "                                                text  \n",
       "0  Look at her face, it's a wonderful face  \\nAnd...  \n",
       "1  Take it easy with me, please  \\nTouch me gentl...  \n",
       "2  I'll never know why I had to go  \\nWhy I had t...  "
      ]
     },
     "execution_count": 3,
     "metadata": {},
     "output_type": "execute_result"
    }
   ],
   "source": [
    "df=pd.read_csv('/kaggle/input/song-data/songdata.csv')\n",
    "df.head(3)"
   ]
  },
  {
   "cell_type": "code",
   "execution_count": 4,
   "id": "3489b4e1",
   "metadata": {
    "execution": {
     "iopub.execute_input": "2023-10-05T10:16:56.039221Z",
     "iopub.status.busy": "2023-10-05T10:16:56.038844Z",
     "iopub.status.idle": "2023-10-05T10:16:56.044538Z",
     "shell.execute_reply": "2023-10-05T10:16:56.043542Z"
    },
    "papermill": {
     "duration": 0.013846,
     "end_time": "2023-10-05T10:16:56.046525",
     "exception": false,
     "start_time": "2023-10-05T10:16:56.032679",
     "status": "completed"
    },
    "tags": []
   },
   "outputs": [
    {
     "data": {
      "text/plain": [
       "(57650, 4)"
      ]
     },
     "execution_count": 4,
     "metadata": {},
     "output_type": "execute_result"
    }
   ],
   "source": [
    "df.shape"
   ]
  },
  {
   "cell_type": "code",
   "execution_count": 5,
   "id": "320bf78c",
   "metadata": {
    "execution": {
     "iopub.execute_input": "2023-10-05T10:16:56.057765Z",
     "iopub.status.busy": "2023-10-05T10:16:56.057434Z",
     "iopub.status.idle": "2023-10-05T10:16:56.064441Z",
     "shell.execute_reply": "2023-10-05T10:16:56.063502Z"
    },
    "papermill": {
     "duration": 0.014831,
     "end_time": "2023-10-05T10:16:56.066298",
     "exception": false,
     "start_time": "2023-10-05T10:16:56.051467",
     "status": "completed"
    },
    "tags": []
   },
   "outputs": [
    {
     "data": {
      "text/plain": [
       "artist    object\n",
       "song      object\n",
       "link      object\n",
       "text      object\n",
       "dtype: object"
      ]
     },
     "execution_count": 5,
     "metadata": {},
     "output_type": "execute_result"
    }
   ],
   "source": [
    "df.dtypes"
   ]
  },
  {
   "cell_type": "code",
   "execution_count": 6,
   "id": "b47b83d1",
   "metadata": {
    "execution": {
     "iopub.execute_input": "2023-10-05T10:16:56.077678Z",
     "iopub.status.busy": "2023-10-05T10:16:56.077357Z",
     "iopub.status.idle": "2023-10-05T10:16:56.092624Z",
     "shell.execute_reply": "2023-10-05T10:16:56.091613Z"
    },
    "papermill": {
     "duration": 0.023394,
     "end_time": "2023-10-05T10:16:56.094767",
     "exception": false,
     "start_time": "2023-10-05T10:16:56.071373",
     "status": "completed"
    },
    "tags": []
   },
   "outputs": [],
   "source": [
    "df=df.sample(n=5000).drop('link',axis=1).reset_index(drop=True)"
   ]
  },
  {
   "cell_type": "code",
   "execution_count": 7,
   "id": "7dd0cf11",
   "metadata": {
    "execution": {
     "iopub.execute_input": "2023-10-05T10:16:56.106412Z",
     "iopub.status.busy": "2023-10-05T10:16:56.106057Z",
     "iopub.status.idle": "2023-10-05T10:16:56.115083Z",
     "shell.execute_reply": "2023-10-05T10:16:56.114112Z"
    },
    "papermill": {
     "duration": 0.017187,
     "end_time": "2023-10-05T10:16:56.117142",
     "exception": false,
     "start_time": "2023-10-05T10:16:56.099955",
     "status": "completed"
    },
    "tags": []
   },
   "outputs": [
    {
     "data": {
      "text/html": [
       "<div>\n",
       "<style scoped>\n",
       "    .dataframe tbody tr th:only-of-type {\n",
       "        vertical-align: middle;\n",
       "    }\n",
       "\n",
       "    .dataframe tbody tr th {\n",
       "        vertical-align: top;\n",
       "    }\n",
       "\n",
       "    .dataframe thead th {\n",
       "        text-align: right;\n",
       "    }\n",
       "</style>\n",
       "<table border=\"1\" class=\"dataframe\">\n",
       "  <thead>\n",
       "    <tr style=\"text-align: right;\">\n",
       "      <th></th>\n",
       "      <th>artist</th>\n",
       "      <th>song</th>\n",
       "      <th>text</th>\n",
       "    </tr>\n",
       "  </thead>\n",
       "  <tbody>\n",
       "    <tr>\n",
       "      <th>0</th>\n",
       "      <td>Rolling Stones</td>\n",
       "      <td>Brand New Car</td>\n",
       "      <td>I got a brand new car  \\nAnd I like to drive r...</td>\n",
       "    </tr>\n",
       "    <tr>\n",
       "      <th>1</th>\n",
       "      <td>Raffi</td>\n",
       "      <td>To Everyone In All The World</td>\n",
       "      <td>To everyone in all the world,  \\nI reach my ha...</td>\n",
       "    </tr>\n",
       "    <tr>\n",
       "      <th>2</th>\n",
       "      <td>Kelly Family</td>\n",
       "      <td>I'll Swim I'll Swim</td>\n",
       "      <td>All the animals in the world  \\nWho's going to...</td>\n",
       "    </tr>\n",
       "  </tbody>\n",
       "</table>\n",
       "</div>"
      ],
      "text/plain": [
       "           artist                          song  \\\n",
       "0  Rolling Stones                 Brand New Car   \n",
       "1           Raffi  To Everyone In All The World   \n",
       "2    Kelly Family           I'll Swim I'll Swim   \n",
       "\n",
       "                                                text  \n",
       "0  I got a brand new car  \\nAnd I like to drive r...  \n",
       "1  To everyone in all the world,  \\nI reach my ha...  \n",
       "2  All the animals in the world  \\nWho's going to...  "
      ]
     },
     "execution_count": 7,
     "metadata": {},
     "output_type": "execute_result"
    }
   ],
   "source": [
    "df.head(3)"
   ]
  },
  {
   "cell_type": "code",
   "execution_count": 8,
   "id": "5c04fe13",
   "metadata": {
    "execution": {
     "iopub.execute_input": "2023-10-05T10:16:56.129731Z",
     "iopub.status.busy": "2023-10-05T10:16:56.129142Z",
     "iopub.status.idle": "2023-10-05T10:16:56.133797Z",
     "shell.execute_reply": "2023-10-05T10:16:56.133207Z"
    },
    "papermill": {
     "duration": 0.013043,
     "end_time": "2023-10-05T10:16:56.135520",
     "exception": false,
     "start_time": "2023-10-05T10:16:56.122477",
     "status": "completed"
    },
    "tags": []
   },
   "outputs": [
    {
     "data": {
      "text/plain": [
       "(5000, 3)"
      ]
     },
     "execution_count": 8,
     "metadata": {},
     "output_type": "execute_result"
    }
   ],
   "source": [
    "df.shape"
   ]
  },
  {
   "cell_type": "code",
   "execution_count": 9,
   "id": "68e1be37",
   "metadata": {
    "execution": {
     "iopub.execute_input": "2023-10-05T10:16:56.147803Z",
     "iopub.status.busy": "2023-10-05T10:16:56.147251Z",
     "iopub.status.idle": "2023-10-05T10:16:56.203127Z",
     "shell.execute_reply": "2023-10-05T10:16:56.201734Z"
    },
    "papermill": {
     "duration": 0.064603,
     "end_time": "2023-10-05T10:16:56.205597",
     "exception": false,
     "start_time": "2023-10-05T10:16:56.140994",
     "status": "completed"
    },
    "tags": []
   },
   "outputs": [],
   "source": [
    "df['text'] = df['text'].str.lower().replace(r'[^\\w\\s]','').replace(r'\\n',' ', regex=True)"
   ]
  },
  {
   "cell_type": "code",
   "execution_count": 10,
   "id": "e18de264",
   "metadata": {
    "execution": {
     "iopub.execute_input": "2023-10-05T10:16:56.218296Z",
     "iopub.status.busy": "2023-10-05T10:16:56.217614Z",
     "iopub.status.idle": "2023-10-05T10:16:56.223037Z",
     "shell.execute_reply": "2023-10-05T10:16:56.222381Z"
    },
    "papermill": {
     "duration": 0.013697,
     "end_time": "2023-10-05T10:16:56.224737",
     "exception": false,
     "start_time": "2023-10-05T10:16:56.211040",
     "status": "completed"
    },
    "tags": []
   },
   "outputs": [
    {
     "data": {
      "text/plain": [
       "\"i got a brand new car   and i like to drive real hard   i got a brand new car   and i'm feeling good so far      take her on the highway for a little spin   i want to see the kind of shape she's in   and i got a brand new star   jack her up baby, go on, open the hood   i want to check if her oil smells good   mmmm, smells like caviar      give her some stick   push her too far   right to the brink      hear the motor running   yeah, she's right in sink   tell me if she's thirsty   would she like a drink   and i'm stopping at this bar      slinky like a panther   you can hear her purr   touch her on the seat   go on, feel the fur   and i got a brand new star      feel the juice   foot to the floor   take some abuse      i got a brand new car   and i drive her in the dark   and i got a brand new car   i think i'll stop and park  \""
      ]
     },
     "execution_count": 10,
     "metadata": {},
     "output_type": "execute_result"
    }
   ],
   "source": [
    "df['text'][0]"
   ]
  },
  {
   "cell_type": "code",
   "execution_count": 11,
   "id": "57f58f2d",
   "metadata": {
    "execution": {
     "iopub.execute_input": "2023-10-05T10:16:56.237241Z",
     "iopub.status.busy": "2023-10-05T10:16:56.236608Z",
     "iopub.status.idle": "2023-10-05T10:16:57.885254Z",
     "shell.execute_reply": "2023-10-05T10:16:57.884489Z"
    },
    "papermill": {
     "duration": 1.657476,
     "end_time": "2023-10-05T10:16:57.887569",
     "exception": false,
     "start_time": "2023-10-05T10:16:56.230093",
     "status": "completed"
    },
    "tags": []
   },
   "outputs": [],
   "source": [
    "import nltk\n",
    "from nltk.stem.porter import PorterStemmer\n",
    "stemmer=PorterStemmer()\n",
    "\n",
    "def tokenization(txt):\n",
    "    tokens=nltk.word_tokenize(txt)\n",
    "    stemming=[stemmer.stem(w) for w in tokens]\n",
    "    return \" \".join(stemming)"
   ]
  },
  {
   "cell_type": "code",
   "execution_count": 12,
   "id": "3f5f9002",
   "metadata": {
    "execution": {
     "iopub.execute_input": "2023-10-05T10:16:57.900391Z",
     "iopub.status.busy": "2023-10-05T10:16:57.899752Z",
     "iopub.status.idle": "2023-10-05T10:17:20.834965Z",
     "shell.execute_reply": "2023-10-05T10:17:20.833995Z"
    },
    "papermill": {
     "duration": 22.944211,
     "end_time": "2023-10-05T10:17:20.837325",
     "exception": false,
     "start_time": "2023-10-05T10:16:57.893114",
     "status": "completed"
    },
    "tags": []
   },
   "outputs": [],
   "source": [
    "df['text']=df['text'].apply(lambda x:tokenization(x))"
   ]
  },
  {
   "cell_type": "code",
   "execution_count": 13,
   "id": "9ddf84eb",
   "metadata": {
    "execution": {
     "iopub.execute_input": "2023-10-05T10:17:20.850584Z",
     "iopub.status.busy": "2023-10-05T10:17:20.849594Z",
     "iopub.status.idle": "2023-10-05T10:17:20.854795Z",
     "shell.execute_reply": "2023-10-05T10:17:20.853628Z"
    },
    "papermill": {
     "duration": 0.013967,
     "end_time": "2023-10-05T10:17:20.856866",
     "exception": false,
     "start_time": "2023-10-05T10:17:20.842899",
     "status": "completed"
    },
    "tags": []
   },
   "outputs": [],
   "source": [
    "from sklearn.feature_extraction.text import TfidfVectorizer\n",
    "from sklearn.metrics.pairwise import cosine_similarity"
   ]
  },
  {
   "cell_type": "code",
   "execution_count": 14,
   "id": "d50e72b6",
   "metadata": {
    "execution": {
     "iopub.execute_input": "2023-10-05T10:17:20.869871Z",
     "iopub.status.busy": "2023-10-05T10:17:20.868831Z",
     "iopub.status.idle": "2023-10-05T10:17:22.998724Z",
     "shell.execute_reply": "2023-10-05T10:17:22.997642Z"
    },
    "papermill": {
     "duration": 2.138759,
     "end_time": "2023-10-05T10:17:23.001072",
     "exception": false,
     "start_time": "2023-10-05T10:17:20.862313",
     "status": "completed"
    },
    "tags": []
   },
   "outputs": [],
   "source": [
    "tfidvector=TfidfVectorizer(analyzer='word',stop_words='english')\n",
    "matrix=tfidvector.fit_transform(df['text'])\n",
    "similarity=cosine_similarity(matrix)"
   ]
  },
  {
   "cell_type": "code",
   "execution_count": 15,
   "id": "9049685a",
   "metadata": {
    "execution": {
     "iopub.execute_input": "2023-10-05T10:17:23.013516Z",
     "iopub.status.busy": "2023-10-05T10:17:23.013111Z",
     "iopub.status.idle": "2023-10-05T10:17:23.020018Z",
     "shell.execute_reply": "2023-10-05T10:17:23.019002Z"
    },
    "papermill": {
     "duration": 0.015569,
     "end_time": "2023-10-05T10:17:23.022199",
     "exception": false,
     "start_time": "2023-10-05T10:17:23.006630",
     "status": "completed"
    },
    "tags": []
   },
   "outputs": [
    {
     "data": {
      "text/plain": [
       "array([1.        , 0.00576546, 0.05852052, ..., 0.03655948, 0.06756457,\n",
       "       0.08344585])"
      ]
     },
     "execution_count": 15,
     "metadata": {},
     "output_type": "execute_result"
    }
   ],
   "source": [
    "similarity[0]"
   ]
  },
  {
   "cell_type": "code",
   "execution_count": 16,
   "id": "489df330",
   "metadata": {
    "execution": {
     "iopub.execute_input": "2023-10-05T10:17:23.035294Z",
     "iopub.status.busy": "2023-10-05T10:17:23.034911Z",
     "iopub.status.idle": "2023-10-05T10:17:23.042665Z",
     "shell.execute_reply": "2023-10-05T10:17:23.041542Z"
    },
    "papermill": {
     "duration": 0.016812,
     "end_time": "2023-10-05T10:17:23.044683",
     "exception": false,
     "start_time": "2023-10-05T10:17:23.027871",
     "status": "completed"
    },
    "tags": []
   },
   "outputs": [
    {
     "data": {
      "text/plain": [
       "artist                                       Rolling Stones\n",
       "song                                          Brand New Car\n",
       "text      i got a brand new car and i like to drive real...\n",
       "Name: 0, dtype: object"
      ]
     },
     "execution_count": 16,
     "metadata": {},
     "output_type": "execute_result"
    }
   ],
   "source": [
    "df.loc[0]"
   ]
  },
  {
   "cell_type": "code",
   "execution_count": 17,
   "id": "d46be6c5",
   "metadata": {
    "execution": {
     "iopub.execute_input": "2023-10-05T10:17:23.057937Z",
     "iopub.status.busy": "2023-10-05T10:17:23.057325Z",
     "iopub.status.idle": "2023-10-05T10:17:24.462180Z",
     "shell.execute_reply": "2023-10-05T10:17:24.460743Z"
    },
    "papermill": {
     "duration": 1.413713,
     "end_time": "2023-10-05T10:17:24.464094",
     "exception": true,
     "start_time": "2023-10-05T10:17:23.050381",
     "status": "failed"
    },
    "tags": []
   },
   "outputs": [
    {
     "ename": "KeyError",
     "evalue": "0",
     "output_type": "error",
     "traceback": [
      "\u001b[0;31m---------------------------------------------------------------------------\u001b[0m",
      "\u001b[0;31mKeyError\u001b[0m                                  Traceback (most recent call last)",
      "File \u001b[0;32m/opt/conda/lib/python3.10/site-packages/pandas/core/indexes/base.py:3653\u001b[0m, in \u001b[0;36mIndex.get_loc\u001b[0;34m(self, key)\u001b[0m\n\u001b[1;32m   3652\u001b[0m \u001b[38;5;28;01mtry\u001b[39;00m:\n\u001b[0;32m-> 3653\u001b[0m     \u001b[38;5;28;01mreturn\u001b[39;00m \u001b[38;5;28;43mself\u001b[39;49m\u001b[38;5;241;43m.\u001b[39;49m\u001b[43m_engine\u001b[49m\u001b[38;5;241;43m.\u001b[39;49m\u001b[43mget_loc\u001b[49m\u001b[43m(\u001b[49m\u001b[43mcasted_key\u001b[49m\u001b[43m)\u001b[49m\n\u001b[1;32m   3654\u001b[0m \u001b[38;5;28;01mexcept\u001b[39;00m \u001b[38;5;167;01mKeyError\u001b[39;00m \u001b[38;5;28;01mas\u001b[39;00m err:\n",
      "File \u001b[0;32m/opt/conda/lib/python3.10/site-packages/pandas/_libs/index.pyx:147\u001b[0m, in \u001b[0;36mpandas._libs.index.IndexEngine.get_loc\u001b[0;34m()\u001b[0m\n",
      "File \u001b[0;32m/opt/conda/lib/python3.10/site-packages/pandas/_libs/index.pyx:176\u001b[0m, in \u001b[0;36mpandas._libs.index.IndexEngine.get_loc\u001b[0;34m()\u001b[0m\n",
      "File \u001b[0;32mpandas/_libs/hashtable_class_helper.pxi:2606\u001b[0m, in \u001b[0;36mpandas._libs.hashtable.Int64HashTable.get_item\u001b[0;34m()\u001b[0m\n",
      "File \u001b[0;32mpandas/_libs/hashtable_class_helper.pxi:2630\u001b[0m, in \u001b[0;36mpandas._libs.hashtable.Int64HashTable.get_item\u001b[0;34m()\u001b[0m\n",
      "\u001b[0;31mKeyError\u001b[0m: 0",
      "\nThe above exception was the direct cause of the following exception:\n",
      "\u001b[0;31mKeyError\u001b[0m                                  Traceback (most recent call last)",
      "Cell \u001b[0;32mIn[17], line 1\u001b[0m\n\u001b[0;32m----> 1\u001b[0m \u001b[43mdf\u001b[49m\u001b[43m[\u001b[49m\u001b[43mdf\u001b[49m\u001b[43m[\u001b[49m\u001b[38;5;124;43m'\u001b[39;49m\u001b[38;5;124;43msong\u001b[39;49m\u001b[38;5;124;43m'\u001b[39;49m\u001b[43m]\u001b[49m\u001b[43m \u001b[49m\u001b[38;5;241;43m==\u001b[39;49m\u001b[43m \u001b[49m\u001b[38;5;124;43m'\u001b[39;49m\u001b[38;5;124;43mLeave Me In Hell\u001b[39;49m\u001b[38;5;124;43m'\u001b[39;49m\u001b[43m]\u001b[49m\u001b[38;5;241;43m.\u001b[39;49m\u001b[43mloc\u001b[49m\u001b[43m[\u001b[49m\u001b[38;5;241;43m0\u001b[39;49m\u001b[43m]\u001b[49m\n",
      "File \u001b[0;32m/opt/conda/lib/python3.10/site-packages/pandas/core/indexing.py:1103\u001b[0m, in \u001b[0;36m_LocationIndexer.__getitem__\u001b[0;34m(self, key)\u001b[0m\n\u001b[1;32m   1100\u001b[0m axis \u001b[38;5;241m=\u001b[39m \u001b[38;5;28mself\u001b[39m\u001b[38;5;241m.\u001b[39maxis \u001b[38;5;129;01mor\u001b[39;00m \u001b[38;5;241m0\u001b[39m\n\u001b[1;32m   1102\u001b[0m maybe_callable \u001b[38;5;241m=\u001b[39m com\u001b[38;5;241m.\u001b[39mapply_if_callable(key, \u001b[38;5;28mself\u001b[39m\u001b[38;5;241m.\u001b[39mobj)\n\u001b[0;32m-> 1103\u001b[0m \u001b[38;5;28;01mreturn\u001b[39;00m \u001b[38;5;28;43mself\u001b[39;49m\u001b[38;5;241;43m.\u001b[39;49m\u001b[43m_getitem_axis\u001b[49m\u001b[43m(\u001b[49m\u001b[43mmaybe_callable\u001b[49m\u001b[43m,\u001b[49m\u001b[43m \u001b[49m\u001b[43maxis\u001b[49m\u001b[38;5;241;43m=\u001b[39;49m\u001b[43maxis\u001b[49m\u001b[43m)\u001b[49m\n",
      "File \u001b[0;32m/opt/conda/lib/python3.10/site-packages/pandas/core/indexing.py:1343\u001b[0m, in \u001b[0;36m_LocIndexer._getitem_axis\u001b[0;34m(self, key, axis)\u001b[0m\n\u001b[1;32m   1341\u001b[0m \u001b[38;5;66;03m# fall thru to straight lookup\u001b[39;00m\n\u001b[1;32m   1342\u001b[0m \u001b[38;5;28mself\u001b[39m\u001b[38;5;241m.\u001b[39m_validate_key(key, axis)\n\u001b[0;32m-> 1343\u001b[0m \u001b[38;5;28;01mreturn\u001b[39;00m \u001b[38;5;28;43mself\u001b[39;49m\u001b[38;5;241;43m.\u001b[39;49m\u001b[43m_get_label\u001b[49m\u001b[43m(\u001b[49m\u001b[43mkey\u001b[49m\u001b[43m,\u001b[49m\u001b[43m \u001b[49m\u001b[43maxis\u001b[49m\u001b[38;5;241;43m=\u001b[39;49m\u001b[43maxis\u001b[49m\u001b[43m)\u001b[49m\n",
      "File \u001b[0;32m/opt/conda/lib/python3.10/site-packages/pandas/core/indexing.py:1293\u001b[0m, in \u001b[0;36m_LocIndexer._get_label\u001b[0;34m(self, label, axis)\u001b[0m\n\u001b[1;32m   1291\u001b[0m \u001b[38;5;28;01mdef\u001b[39;00m \u001b[38;5;21m_get_label\u001b[39m(\u001b[38;5;28mself\u001b[39m, label, axis: AxisInt):\n\u001b[1;32m   1292\u001b[0m     \u001b[38;5;66;03m# GH#5567 this will fail if the label is not present in the axis.\u001b[39;00m\n\u001b[0;32m-> 1293\u001b[0m     \u001b[38;5;28;01mreturn\u001b[39;00m \u001b[38;5;28;43mself\u001b[39;49m\u001b[38;5;241;43m.\u001b[39;49m\u001b[43mobj\u001b[49m\u001b[38;5;241;43m.\u001b[39;49m\u001b[43mxs\u001b[49m\u001b[43m(\u001b[49m\u001b[43mlabel\u001b[49m\u001b[43m,\u001b[49m\u001b[43m \u001b[49m\u001b[43maxis\u001b[49m\u001b[38;5;241;43m=\u001b[39;49m\u001b[43maxis\u001b[49m\u001b[43m)\u001b[49m\n",
      "File \u001b[0;32m/opt/conda/lib/python3.10/site-packages/pandas/core/generic.py:4095\u001b[0m, in \u001b[0;36mNDFrame.xs\u001b[0;34m(self, key, axis, level, drop_level)\u001b[0m\n\u001b[1;32m   4093\u001b[0m             new_index \u001b[38;5;241m=\u001b[39m index[loc]\n\u001b[1;32m   4094\u001b[0m \u001b[38;5;28;01melse\u001b[39;00m:\n\u001b[0;32m-> 4095\u001b[0m     loc \u001b[38;5;241m=\u001b[39m \u001b[43mindex\u001b[49m\u001b[38;5;241;43m.\u001b[39;49m\u001b[43mget_loc\u001b[49m\u001b[43m(\u001b[49m\u001b[43mkey\u001b[49m\u001b[43m)\u001b[49m\n\u001b[1;32m   4097\u001b[0m     \u001b[38;5;28;01mif\u001b[39;00m \u001b[38;5;28misinstance\u001b[39m(loc, np\u001b[38;5;241m.\u001b[39mndarray):\n\u001b[1;32m   4098\u001b[0m         \u001b[38;5;28;01mif\u001b[39;00m loc\u001b[38;5;241m.\u001b[39mdtype \u001b[38;5;241m==\u001b[39m np\u001b[38;5;241m.\u001b[39mbool_:\n",
      "File \u001b[0;32m/opt/conda/lib/python3.10/site-packages/pandas/core/indexes/base.py:3655\u001b[0m, in \u001b[0;36mIndex.get_loc\u001b[0;34m(self, key)\u001b[0m\n\u001b[1;32m   3653\u001b[0m     \u001b[38;5;28;01mreturn\u001b[39;00m \u001b[38;5;28mself\u001b[39m\u001b[38;5;241m.\u001b[39m_engine\u001b[38;5;241m.\u001b[39mget_loc(casted_key)\n\u001b[1;32m   3654\u001b[0m \u001b[38;5;28;01mexcept\u001b[39;00m \u001b[38;5;167;01mKeyError\u001b[39;00m \u001b[38;5;28;01mas\u001b[39;00m err:\n\u001b[0;32m-> 3655\u001b[0m     \u001b[38;5;28;01mraise\u001b[39;00m \u001b[38;5;167;01mKeyError\u001b[39;00m(key) \u001b[38;5;28;01mfrom\u001b[39;00m \u001b[38;5;21;01merr\u001b[39;00m\n\u001b[1;32m   3656\u001b[0m \u001b[38;5;28;01mexcept\u001b[39;00m \u001b[38;5;167;01mTypeError\u001b[39;00m:\n\u001b[1;32m   3657\u001b[0m     \u001b[38;5;66;03m# If we have a listlike key, _check_indexing_error will raise\u001b[39;00m\n\u001b[1;32m   3658\u001b[0m     \u001b[38;5;66;03m#  InvalidIndexError. Otherwise we fall through and re-raise\u001b[39;00m\n\u001b[1;32m   3659\u001b[0m     \u001b[38;5;66;03m#  the TypeError.\u001b[39;00m\n\u001b[1;32m   3660\u001b[0m     \u001b[38;5;28mself\u001b[39m\u001b[38;5;241m.\u001b[39m_check_indexing_error(key)\n",
      "\u001b[0;31mKeyError\u001b[0m: 0"
     ]
    }
   ],
   "source": [
    "df[df['song'] == 'Leave Me In Hell'].loc[0]"
   ]
  },
  {
   "cell_type": "code",
   "execution_count": null,
   "id": "a82900d3",
   "metadata": {
    "execution": {
     "iopub.execute_input": "2023-10-05T10:14:55.945698Z",
     "iopub.status.busy": "2023-10-05T10:14:55.944611Z",
     "iopub.status.idle": "2023-10-05T10:14:55.955898Z",
     "shell.execute_reply": "2023-10-05T10:14:55.954563Z",
     "shell.execute_reply.started": "2023-10-05T10:14:55.945663Z"
    },
    "papermill": {
     "duration": null,
     "end_time": null,
     "exception": null,
     "start_time": null,
     "status": "pending"
    },
    "tags": []
   },
   "outputs": [],
   "source": [
    "df['song'].sample(4)"
   ]
  },
  {
   "cell_type": "markdown",
   "id": "599ab7ff",
   "metadata": {
    "papermill": {
     "duration": null,
     "end_time": null,
     "exception": null,
     "start_time": null,
     "status": "pending"
    },
    "tags": []
   },
   "source": [
    "# Recommedation system"
   ]
  },
  {
   "cell_type": "code",
   "execution_count": null,
   "id": "6f0e436c",
   "metadata": {
    "execution": {
     "iopub.execute_input": "2023-10-05T10:14:29.999761Z",
     "iopub.status.busy": "2023-10-05T10:14:29.999358Z",
     "iopub.status.idle": "2023-10-05T10:14:30.010831Z",
     "shell.execute_reply": "2023-10-05T10:14:30.009206Z",
     "shell.execute_reply.started": "2023-10-05T10:14:29.999732Z"
    },
    "papermill": {
     "duration": null,
     "end_time": null,
     "exception": null,
     "start_time": null,
     "status": "pending"
    },
    "tags": []
   },
   "outputs": [],
   "source": [
    "def recommendation(song_df):\n",
    "    # Check if song_df exists in the DataFrame\n",
    "    if song_df not in df['song'].values:\n",
    "        return \"Song not found in the database\"  # or return an empty list, depending on your use case\n",
    "    \n",
    "    idx = df[df['song'] == song_df].index[0]\n",
    "    distances = sorted(list(enumerate(similarity[idx])), reverse=True, key=lambda x: x[1])\n",
    "    \n",
    "    songs = []\n",
    "    for m_id in distances[1:21]:\n",
    "        songs.append(df.iloc[m_id[0]].song)\n",
    "        \n",
    "    return songs"
   ]
  },
  {
   "cell_type": "code",
   "execution_count": null,
   "id": "6ee07daa",
   "metadata": {
    "execution": {
     "iopub.execute_input": "2023-10-05T10:15:06.414909Z",
     "iopub.status.busy": "2023-10-05T10:15:06.414229Z",
     "iopub.status.idle": "2023-10-05T10:15:06.434424Z",
     "shell.execute_reply": "2023-10-05T10:15:06.433208Z",
     "shell.execute_reply.started": "2023-10-05T10:15:06.414870Z"
    },
    "papermill": {
     "duration": null,
     "end_time": null,
     "exception": null,
     "start_time": null,
     "status": "pending"
    },
    "tags": []
   },
   "outputs": [],
   "source": [
    "recommendation('Falling Down')"
   ]
  },
  {
   "cell_type": "code",
   "execution_count": null,
   "id": "6ccbf361",
   "metadata": {
    "execution": {
     "iopub.execute_input": "2023-10-05T10:15:36.203684Z",
     "iopub.status.busy": "2023-10-05T10:15:36.202208Z",
     "iopub.status.idle": "2023-10-05T10:15:36.904156Z",
     "shell.execute_reply": "2023-10-05T10:15:36.902818Z",
     "shell.execute_reply.started": "2023-10-05T10:15:36.203622Z"
    },
    "papermill": {
     "duration": null,
     "end_time": null,
     "exception": null,
     "start_time": null,
     "status": "pending"
    },
    "tags": []
   },
   "outputs": [],
   "source": [
    "import pickle\n",
    "pickle.dump(similarity,open('similarity.pkl','wb'))\n",
    "pickle.dump(df,open('df.pkl','wb'))"
   ]
  },
  {
   "cell_type": "code",
   "execution_count": null,
   "id": "3ab4ccd2",
   "metadata": {
    "papermill": {
     "duration": null,
     "end_time": null,
     "exception": null,
     "start_time": null,
     "status": "pending"
    },
    "tags": []
   },
   "outputs": [],
   "source": []
  }
 ],
 "metadata": {
  "kernelspec": {
   "display_name": "Python 3",
   "language": "python",
   "name": "python3"
  },
  "language_info": {
   "codemirror_mode": {
    "name": "ipython",
    "version": 3
   },
   "file_extension": ".py",
   "mimetype": "text/x-python",
   "name": "python",
   "nbconvert_exporter": "python",
   "pygments_lexer": "ipython3",
   "version": "3.10.12"
  },
  "papermill": {
   "default_parameters": {},
   "duration": 34.320534,
   "end_time": "2023-10-05T10:17:25.390690",
   "environment_variables": {},
   "exception": true,
   "input_path": "__notebook__.ipynb",
   "output_path": "__notebook__.ipynb",
   "parameters": {},
   "start_time": "2023-10-05T10:16:51.070156",
   "version": "2.4.0"
  }
 },
 "nbformat": 4,
 "nbformat_minor": 5
}
